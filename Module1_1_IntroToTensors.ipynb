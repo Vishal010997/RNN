{
  "cells": [
    {
      "cell_type": "markdown",
      "source": [
        "This code is mainly by Edward Raff - https://github.com/EdwardRaff/Inside-Deep-Learning\n",
        "\n",
        "Modified by Arunesh Sinha"
      ],
      "metadata": {
        "id": "UZKv_TJ5JIuU"
      }
    },
    {
      "cell_type": "code",
      "execution_count": 5,
      "metadata": {
        "ExecuteTime": {
          "end_time": "2021-03-22T05:32:54.107372Z",
          "start_time": "2021-03-22T05:32:53.400242Z"
        },
        "tags": [
          "remove_output"
        ],
        "id": "EDbXxvK3fvah"
      },
      "outputs": [],
      "source": [
        "import seaborn as sns\n",
        "import matplotlib.pyplot as plt\n",
        "import numpy as np\n",
        "from tqdm.autonotebook import tqdm\n",
        "import pandas as pd"
      ]
    },
    {
      "cell_type": "code",
      "execution_count": null,
      "metadata": {
        "ExecuteTime": {
          "end_time": "2021-03-22T05:32:54.114216Z",
          "start_time": "2021-03-22T05:32:54.109474Z"
        },
        "tags": [
          "remove_cell"
        ],
        "id": "jrKz7URMfvaj",
        "colab": {
          "base_uri": "https://localhost:8080/"
        },
        "outputId": "eb15e8da-5f35-447a-a27c-d65c3ab9b4b1"
      },
      "outputs": [
        {
          "output_type": "stream",
          "name": "stderr",
          "text": [
            "<ipython-input-2-475911aa0aa9>:3: DeprecationWarning: `set_matplotlib_formats` is deprecated since IPython 7.23, directly use `matplotlib_inline.backend_inline.set_matplotlib_formats()`\n",
            "  set_matplotlib_formats('png', 'pdf')\n"
          ]
        }
      ],
      "source": [
        "%matplotlib inline\n",
        "from IPython.display import set_matplotlib_formats\n",
        "set_matplotlib_formats('png', 'pdf')"
      ]
    },
    {
      "cell_type": "code",
      "execution_count": null,
      "metadata": {
        "ExecuteTime": {
          "end_time": "2021-03-22T05:32:54.669963Z",
          "start_time": "2021-03-22T05:32:54.116147Z"
        },
        "id": "cQgAU7vQfvak",
        "colab": {
          "base_uri": "https://localhost:8080/"
        },
        "outputId": "91915b21-408f-4439-c713-d819c9bef35f"
      },
      "outputs": [
        {
          "output_type": "stream",
          "name": "stdout",
          "text": [
            "2.1.0+cu121\n"
          ]
        }
      ],
      "source": [
        "import torch\n",
        "print(torch.__version__)"
      ]
    },
    {
      "cell_type": "code",
      "source": [
        "!python --version"
      ],
      "metadata": {
        "colab": {
          "base_uri": "https://localhost:8080/"
        },
        "id": "cd9Hr4YwXUYp",
        "outputId": "372f50b5-affe-4ad3-a177-ceb8a6f54aca"
      },
      "execution_count": null,
      "outputs": [
        {
          "output_type": "stream",
          "name": "stdout",
          "text": [
            "Python 3.10.12\n"
          ]
        }
      ]
    },
    {
      "cell_type": "code",
      "execution_count": 6,
      "metadata": {
        "ExecuteTime": {
          "end_time": "2021-03-22T05:32:54.676062Z",
          "start_time": "2021-03-22T05:32:54.671481Z"
        },
        "id": "YY4boakAfvak"
      },
      "outputs": [],
      "source": [
        "torch_scalar = torch.tensor(3.14)\n",
        "torch_vector = torch.tensor([1, 2, 3, 4])\n",
        "torch_matrix = torch.tensor([[1, 2,],\n",
        "                             [3, 4,],\n",
        "                             [5, 6,],\n",
        "                             [7, 8,]])\n",
        "#You don't have to format it like I did, thats just for clarity\n",
        "torch_tensor3d = torch.tensor([\n",
        "                            [\n",
        "                            [ 1,  2,  3],\n",
        "                            [ 4,  5,  6],\n",
        "                            ],\n",
        "                            [\n",
        "                            [ 7,  8,  9],\n",
        "                            [10, 11, 12],\n",
        "                            ],\n",
        "                            [\n",
        "                            [13, 14, 15],\n",
        "                            [16, 17, 18],\n",
        "                            ],\n",
        "                            [\n",
        "                            [19, 20, 21],\n",
        "                            [22, 23, 24],\n",
        "                            ]\n",
        "                              ])"
      ]
    },
    {
      "cell_type": "code",
      "execution_count": 7,
      "metadata": {
        "ExecuteTime": {
          "end_time": "2021-03-22T05:32:54.688664Z",
          "start_time": "2021-03-22T05:32:54.677220Z"
        },
        "id": "ucn5nOOjfvak",
        "colab": {
          "base_uri": "https://localhost:8080/"
        },
        "outputId": "6eefb809-7e86-4064-9c2b-3fffea35cdc2"
      },
      "outputs": [
        {
          "output_type": "stream",
          "name": "stdout",
          "text": [
            "torch.Size([])\n",
            "torch.Size([4])\n",
            "torch.Size([4, 2])\n",
            "torch.Size([4, 2, 3])\n"
          ]
        }
      ],
      "source": [
        "print(torch_scalar.shape)\n",
        "print(torch_vector.shape)\n",
        "print(torch_matrix.shape)\n",
        "print(torch_tensor3d.shape)"
      ]
    },
    {
      "cell_type": "code",
      "execution_count": 8,
      "metadata": {
        "ExecuteTime": {
          "end_time": "2021-03-22T05:32:54.694456Z",
          "start_time": "2021-03-22T05:32:54.690164Z"
        },
        "id": "qOHDdqtCfval",
        "colab": {
          "base_uri": "https://localhost:8080/"
        },
        "outputId": "bfda9532-59ce-4a18-8aa5-a7846700ed12"
      },
      "outputs": [
        {
          "output_type": "stream",
          "name": "stdout",
          "text": [
            "[[0.73190066 0.11149239 0.28763394 0.56862894]\n",
            " [0.39209059 0.01129645 0.6908148  0.37352965]\n",
            " [0.0271468  0.33238854 0.52720093 0.95715262]\n",
            " [0.78433522 0.27155264 0.28596557 0.77748357]]\n"
          ]
        }
      ],
      "source": [
        "x_np = np.random.random((4,4))\n",
        "print(x_np)"
      ]
    },
    {
      "cell_type": "code",
      "execution_count": 9,
      "metadata": {
        "ExecuteTime": {
          "end_time": "2021-03-22T05:32:54.701736Z",
          "start_time": "2021-03-22T05:32:54.697048Z"
        },
        "id": "yIlTJovVfval",
        "colab": {
          "base_uri": "https://localhost:8080/"
        },
        "outputId": "95f47635-5486-4c4e-a05a-f3b18c1d203b"
      },
      "outputs": [
        {
          "output_type": "stream",
          "name": "stdout",
          "text": [
            "tensor([[0.7319, 0.1115, 0.2876, 0.5686],\n",
            "        [0.3921, 0.0113, 0.6908, 0.3735],\n",
            "        [0.0271, 0.3324, 0.5272, 0.9572],\n",
            "        [0.7843, 0.2716, 0.2860, 0.7775]], dtype=torch.float64)\n"
          ]
        }
      ],
      "source": [
        "x_pt = torch.tensor(x_np)\n",
        "print(x_pt)"
      ]
    },
    {
      "cell_type": "code",
      "execution_count": 10,
      "metadata": {
        "ExecuteTime": {
          "end_time": "2021-03-22T05:32:54.708524Z",
          "start_time": "2021-03-22T05:32:54.703648Z"
        },
        "id": "YOh4KyE3fval",
        "colab": {
          "base_uri": "https://localhost:8080/"
        },
        "outputId": "457be1eb-05dd-449a-bf97-ba0e0bdef795"
      },
      "outputs": [
        {
          "output_type": "stream",
          "name": "stdout",
          "text": [
            "float64 torch.float64\n"
          ]
        }
      ],
      "source": [
        "print(x_np.dtype, x_pt.dtype)"
      ]
    },
    {
      "cell_type": "code",
      "execution_count": 11,
      "metadata": {
        "ExecuteTime": {
          "end_time": "2021-03-22T05:32:54.715713Z",
          "start_time": "2021-03-22T05:32:54.710165Z"
        },
        "id": "NpQ3dFxxfval",
        "colab": {
          "base_uri": "https://localhost:8080/"
        },
        "outputId": "8d9b5156-49d5-422d-aba6-1c68906f5cd2"
      },
      "outputs": [
        {
          "output_type": "stream",
          "name": "stdout",
          "text": [
            "float32 torch.float32\n"
          ]
        }
      ],
      "source": [
        "#Lets force them to be 32-bit floats\n",
        "x_np = np.asarray(x_np, dtype=np.float32)\n",
        "x_pt = torch.tensor(x_np, dtype=torch.float32)\n",
        "print(x_np.dtype, x_pt.dtype)"
      ]
    },
    {
      "cell_type": "code",
      "execution_count": 12,
      "metadata": {
        "ExecuteTime": {
          "end_time": "2021-03-22T05:32:54.722368Z",
          "start_time": "2021-03-22T05:32:54.717373Z"
        },
        "id": "U-oBg0ytfvam",
        "colab": {
          "base_uri": "https://localhost:8080/"
        },
        "outputId": "4aefc24b-e6f3-4eed-8d47-5909ea4040e5"
      },
      "outputs": [
        {
          "output_type": "stream",
          "name": "stdout",
          "text": [
            "[[ True False False  True]\n",
            " [False False  True False]\n",
            " [False False  True  True]\n",
            " [ True False False  True]]\n",
            "bool\n"
          ]
        }
      ],
      "source": [
        "b_np = (x_np > 0.5)\n",
        "print(b_np)\n",
        "print(b_np.dtype)"
      ]
    },
    {
      "cell_type": "code",
      "execution_count": 13,
      "metadata": {
        "ExecuteTime": {
          "end_time": "2021-03-22T05:32:54.729593Z",
          "start_time": "2021-03-22T05:32:54.724132Z"
        },
        "id": "j8F3lHIpfvam",
        "colab": {
          "base_uri": "https://localhost:8080/"
        },
        "outputId": "2cb41bf0-a61d-481d-e359-2ac13e8b19c6"
      },
      "outputs": [
        {
          "output_type": "stream",
          "name": "stdout",
          "text": [
            "tensor([[ True, False, False,  True],\n",
            "        [False, False,  True, False],\n",
            "        [False, False,  True,  True],\n",
            "        [ True, False, False,  True]])\n",
            "torch.bool\n"
          ]
        }
      ],
      "source": [
        "b_pt = (x_pt > 0.5)\n",
        "print(b_pt)\n",
        "print(b_pt.dtype)"
      ]
    },
    {
      "cell_type": "code",
      "execution_count": 14,
      "metadata": {
        "ExecuteTime": {
          "end_time": "2021-03-22T05:32:54.737835Z",
          "start_time": "2021-03-22T05:32:54.730952Z"
        },
        "id": "LcAstANCfvam",
        "outputId": "d848b526-54c3-4eb6-885e-4d25598cbf46",
        "colab": {
          "base_uri": "https://localhost:8080/"
        }
      },
      "outputs": [
        {
          "output_type": "execute_result",
          "data": {
            "text/plain": [
              "7.1306133"
            ]
          },
          "metadata": {},
          "execution_count": 14
        }
      ],
      "source": [
        "np.sum(x_np)"
      ]
    },
    {
      "cell_type": "code",
      "execution_count": 15,
      "metadata": {
        "ExecuteTime": {
          "end_time": "2021-03-22T05:32:54.743037Z",
          "start_time": "2021-03-22T05:32:54.739198Z"
        },
        "id": "36UT2MRSfvam",
        "outputId": "7ec8de28-2993-4bb0-fbd4-3667add4db0b",
        "colab": {
          "base_uri": "https://localhost:8080/"
        }
      },
      "outputs": [
        {
          "output_type": "execute_result",
          "data": {
            "text/plain": [
              "tensor(7.1306)"
            ]
          },
          "metadata": {},
          "execution_count": 15
        }
      ],
      "source": [
        "torch.sum(x_pt)"
      ]
    },
    {
      "cell_type": "code",
      "execution_count": 16,
      "metadata": {
        "ExecuteTime": {
          "end_time": "2021-03-22T05:32:54.747879Z",
          "start_time": "2021-03-22T05:32:54.744383Z"
        },
        "id": "hmgoOmmQfvan",
        "outputId": "e961e8cd-cfe0-4d1a-aaac-89452ba87d1c",
        "colab": {
          "base_uri": "https://localhost:8080/"
        }
      },
      "outputs": [
        {
          "output_type": "execute_result",
          "data": {
            "text/plain": [
              "array([[0.73190063, 0.3920906 , 0.0271468 , 0.7843352 ],\n",
              "       [0.11149239, 0.01129645, 0.33238855, 0.27155265],\n",
              "       [0.28763393, 0.6908148 , 0.52720094, 0.28596556],\n",
              "       [0.56862897, 0.37352964, 0.9571526 , 0.7774836 ]], dtype=float32)"
            ]
          },
          "metadata": {},
          "execution_count": 16
        }
      ],
      "source": [
        "np.transpose(x_np)"
      ]
    },
    {
      "cell_type": "code",
      "execution_count": 17,
      "metadata": {
        "ExecuteTime": {
          "end_time": "2021-03-22T05:32:54.755058Z",
          "start_time": "2021-03-22T05:32:54.749723Z"
        },
        "id": "uMTlO1qHfvan",
        "colab": {
          "base_uri": "https://localhost:8080/"
        },
        "outputId": "034d0345-0b1c-4cc2-8744-a39697ae35f5"
      },
      "outputs": [
        {
          "output_type": "execute_result",
          "data": {
            "text/plain": [
              "tensor([[0.7319, 0.3921, 0.0271, 0.7843],\n",
              "        [0.1115, 0.0113, 0.3324, 0.2716],\n",
              "        [0.2876, 0.6908, 0.5272, 0.2860],\n",
              "        [0.5686, 0.3735, 0.9572, 0.7775]])"
            ]
          },
          "metadata": {},
          "execution_count": 17
        }
      ],
      "source": [
        "# torch transpose not same as numpy transpose, remember always use https://pytorch.org/docs/stable/index.html\n",
        "torch.transpose(x_pt, 0, 1)"
      ]
    },
    {
      "cell_type": "code",
      "execution_count": 18,
      "metadata": {
        "ExecuteTime": {
          "end_time": "2021-03-22T05:32:54.763796Z",
          "start_time": "2021-03-22T05:32:54.756945Z"
        },
        "id": "apnvjjj_fvan",
        "colab": {
          "base_uri": "https://localhost:8080/"
        },
        "outputId": "e203e2d3-3535-4f22-aa0a-88d2d1dc6747"
      },
      "outputs": [
        {
          "output_type": "stream",
          "name": "stdout",
          "text": [
            "torch.Size([3, 2, 4])\n"
          ]
        }
      ],
      "source": [
        "print(torch.transpose(torch_tensor3d, 0, 2).shape)"
      ]
    },
    {
      "cell_type": "code",
      "execution_count": 19,
      "metadata": {
        "ExecuteTime": {
          "end_time": "2021-03-22T05:32:59.532902Z",
          "start_time": "2021-03-22T05:32:54.765163Z"
        },
        "id": "yfW9_RTjfvan"
      },
      "outputs": [],
      "source": [
        "import timeit\n",
        "x = torch.rand(2**11, 2**11)\n",
        "time_cpu = timeit.timeit(\"x@x\", globals=globals(), number=100)"
      ]
    },
    {
      "cell_type": "code",
      "execution_count": 20,
      "metadata": {
        "ExecuteTime": {
          "end_time": "2021-03-22T05:32:59.578188Z",
          "start_time": "2021-03-22T05:32:59.539627Z"
        },
        "colab": {
          "base_uri": "https://localhost:8080/"
        },
        "id": "mI_80r1Zfvan",
        "outputId": "3e322f9f-78bb-44fd-ecf5-67d97b6c3a5c"
      },
      "outputs": [
        {
          "output_type": "stream",
          "name": "stdout",
          "text": [
            "Is CUDA available? : True\n"
          ]
        }
      ],
      "source": [
        "print(\"Is CUDA available? :\", torch.cuda.is_available())\n",
        "device = torch.device(\"cuda\")"
      ]
    },
    {
      "cell_type": "code",
      "execution_count": 21,
      "metadata": {
        "ExecuteTime": {
          "end_time": "2021-03-22T05:33:01.740576Z",
          "start_time": "2021-03-22T05:32:59.580308Z"
        },
        "id": "ps5Ih0xCfvan"
      },
      "outputs": [],
      "source": [
        "x = x.to(device)\n",
        "time_gpu = timeit.timeit(\"x@x\", globals=globals(), number=100)"
      ]
    },
    {
      "cell_type": "code",
      "source": [
        "x = torch.rand(128, 128).to(device)\n",
        "y = torch.rand(128, 128)\n",
        "x*y"
      ],
      "metadata": {
        "colab": {
          "base_uri": "https://localhost:8080/",
          "height": 204
        },
        "id": "8S_FqVpAShp_",
        "outputId": "02d68b7c-6161-4965-be5d-d3356d2f9d69"
      },
      "execution_count": null,
      "outputs": [
        {
          "output_type": "error",
          "ename": "RuntimeError",
          "evalue": "ignored",
          "traceback": [
            "\u001b[0;31m---------------------------------------------------------------------------\u001b[0m",
            "\u001b[0;31mRuntimeError\u001b[0m                              Traceback (most recent call last)",
            "\u001b[0;32m<ipython-input-56-153fa9845a51>\u001b[0m in \u001b[0;36m<module>\u001b[0;34m\u001b[0m\n\u001b[1;32m      1\u001b[0m \u001b[0mx\u001b[0m \u001b[0;34m=\u001b[0m \u001b[0mtorch\u001b[0m\u001b[0;34m.\u001b[0m\u001b[0mrand\u001b[0m\u001b[0;34m(\u001b[0m\u001b[0;36m128\u001b[0m\u001b[0;34m,\u001b[0m \u001b[0;36m128\u001b[0m\u001b[0;34m)\u001b[0m\u001b[0;34m.\u001b[0m\u001b[0mto\u001b[0m\u001b[0;34m(\u001b[0m\u001b[0mdevice\u001b[0m\u001b[0;34m)\u001b[0m\u001b[0;34m\u001b[0m\u001b[0;34m\u001b[0m\u001b[0m\n\u001b[1;32m      2\u001b[0m \u001b[0my\u001b[0m \u001b[0;34m=\u001b[0m \u001b[0mtorch\u001b[0m\u001b[0;34m.\u001b[0m\u001b[0mrand\u001b[0m\u001b[0;34m(\u001b[0m\u001b[0;36m128\u001b[0m\u001b[0;34m,\u001b[0m \u001b[0;36m128\u001b[0m\u001b[0;34m)\u001b[0m\u001b[0;34m\u001b[0m\u001b[0;34m\u001b[0m\u001b[0m\n\u001b[0;32m----> 3\u001b[0;31m \u001b[0mx\u001b[0m\u001b[0;34m*\u001b[0m\u001b[0my\u001b[0m\u001b[0;34m\u001b[0m\u001b[0;34m\u001b[0m\u001b[0m\n\u001b[0m",
            "\u001b[0;31mRuntimeError\u001b[0m: Expected all tensors to be on the same device, but found at least two devices, cuda:0 and cpu!"
          ]
        }
      ]
    },
    {
      "cell_type": "code",
      "source": [
        "x = x.cpu()\n",
        "x*y"
      ],
      "metadata": {
        "colab": {
          "base_uri": "https://localhost:8080/"
        },
        "id": "TNNCJ7TOUppa",
        "outputId": "b78a83f9-34e8-4bef-b2ac-a88fd1158d8f"
      },
      "execution_count": null,
      "outputs": [
        {
          "output_type": "execute_result",
          "data": {
            "text/plain": [
              "tensor([[0.5144, 0.0896, 0.4019,  ..., 0.3814, 0.6939, 0.0585],\n",
              "        [0.2224, 0.0064, 0.2374,  ..., 0.1612, 0.0391, 0.0336],\n",
              "        [0.2608, 0.0194, 0.1412,  ..., 0.1075, 0.3709, 0.6880],\n",
              "        ...,\n",
              "        [0.6719, 0.0172, 0.3221,  ..., 0.5748, 0.0060, 0.0114],\n",
              "        [0.0341, 0.1724, 0.4793,  ..., 0.0041, 0.0944, 0.0432],\n",
              "        [0.2677, 0.4993, 0.5069,  ..., 0.0169, 0.1544, 0.4584]])"
            ]
          },
          "metadata": {},
          "execution_count": 57
        }
      ]
    },
    {
      "cell_type": "code",
      "execution_count": null,
      "metadata": {
        "ExecuteTime": {
          "end_time": "2021-03-22T05:33:01.957208Z",
          "start_time": "2021-03-22T05:33:01.750393Z"
        },
        "id": "acyXhTRpfvan"
      },
      "outputs": [],
      "source": [
        "# A helper function to move various types of objects to a device\n",
        "def moveTo(obj, device):\n",
        "    \"\"\"\n",
        "    obj: the python object to move to a device, or to move its contents to a device\n",
        "    device: the compute device to move objects to\n",
        "    \"\"\"\n",
        "    if isinstance(obj, list):\n",
        "        return [moveTo(x, device) for x in obj]\n",
        "    elif isinstance(obj, tuple):\n",
        "        return tuple(moveTo(list(obj), device))\n",
        "    elif isinstance(obj, set):\n",
        "        return set(moveTo(list(obj), device))\n",
        "    elif isinstance(obj, dict):\n",
        "        to_ret = dict()\n",
        "        for key, value in obj.items():\n",
        "            to_ret[moveTo(key, device)] = moveTo(value, device)\n",
        "        return to_ret\n",
        "    elif hasattr(obj, \"to\"):\n",
        "        return obj.to(device)\n",
        "    else:\n",
        "        return obj\n",
        "\n",
        "some_tensors = [torch.tensor(1), torch.tensor(2)]\n",
        "print(some_tensors)\n",
        "print(moveTo(some_tensors, device))"
      ]
    },
    {
      "cell_type": "code",
      "source": [
        "# _ gives inplace versions of functions (do not use inplace operations, at least when you need gradients)\n",
        "# inplace operations can help save memory, if used properly\n",
        "op1 = torch.ones(3,3)\n",
        "op2 = torch.rand(3,3)\n",
        "print(op1)\n",
        "print(op2)\n",
        "print(op1.add(op2))\n",
        "print(op1)\n",
        "print(op1.add_(op2)) # inplace operation, not recommended\n",
        "\n",
        "print(op1)\n",
        "print(op1 + 1)\n",
        "print(op1)\n",
        "op1 += 1 # inplace operation, not recommended\n",
        "print(op1)"
      ],
      "metadata": {
        "colab": {
          "base_uri": "https://localhost:8080/"
        },
        "id": "11NnPrA2Xecz",
        "outputId": "8baf8374-a6f2-4a31-c769-48448da31f9f"
      },
      "execution_count": 24,
      "outputs": [
        {
          "output_type": "stream",
          "name": "stdout",
          "text": [
            "tensor([[1., 1., 1.],\n",
            "        [1., 1., 1.],\n",
            "        [1., 1., 1.]])\n",
            "tensor([[0.4313, 0.3838, 0.5842],\n",
            "        [0.4525, 0.5164, 0.4564],\n",
            "        [0.2383, 0.1894, 0.1602]])\n",
            "tensor([[1.4313, 1.3838, 1.5842],\n",
            "        [1.4525, 1.5164, 1.4564],\n",
            "        [1.2383, 1.1894, 1.1602]])\n",
            "tensor([[1., 1., 1.],\n",
            "        [1., 1., 1.],\n",
            "        [1., 1., 1.]])\n",
            "tensor([[1.4313, 1.3838, 1.5842],\n",
            "        [1.4525, 1.5164, 1.4564],\n",
            "        [1.2383, 1.1894, 1.1602]])\n",
            "tensor([[1.4313, 1.3838, 1.5842],\n",
            "        [1.4525, 1.5164, 1.4564],\n",
            "        [1.2383, 1.1894, 1.1602]])\n"
          ]
        }
      ]
    },
    {
      "cell_type": "code",
      "source": [
        "x = torch.rand(1, requires_grad=True)\n",
        "print(x)"
      ],
      "metadata": {
        "id": "3JGT1DciQc2q",
        "colab": {
          "base_uri": "https://localhost:8080/"
        },
        "outputId": "0c715aa7-9471-4741-b342-f993158b42e4"
      },
      "execution_count": 25,
      "outputs": [
        {
          "output_type": "stream",
          "name": "stdout",
          "text": [
            "tensor([0.5311], requires_grad=True)\n"
          ]
        }
      ]
    },
    {
      "cell_type": "code",
      "source": [
        "y = x + 2\n",
        "print(y)\n",
        "z = y*y\n",
        "#z = y.mean()\n",
        "\n",
        "#y.retain_grad()\n",
        "z.backward()\n",
        "print(x.grad) # dz/dx\n",
        "#print(y.grad)\n",
        "#x.gra\n",
        "\n",
        "# No grad - 3 known ways\n",
        "#x.requires_grad_(False)\n",
        "#x.detach()\n",
        "with torch.no_grad():\n",
        "  y = x*x\n",
        "  #print(y)"
      ],
      "metadata": {
        "id": "DKEPJSlHQhRz",
        "colab": {
          "base_uri": "https://localhost:8080/"
        },
        "outputId": "5eb54737-3eda-4d2e-e419-f2ca179fd6de"
      },
      "execution_count": 28,
      "outputs": [
        {
          "output_type": "stream",
          "name": "stdout",
          "text": [
            "tensor([2.5311], grad_fn=<AddBackward0>)\n",
            "tensor([15.1864])\n"
          ]
        }
      ]
    },
    {
      "cell_type": "code",
      "source": [
        "x = torch.rand(2, requires_grad=True)\n",
        "print(x)"
      ],
      "metadata": {
        "colab": {
          "base_uri": "https://localhost:8080/"
        },
        "id": "WNstta8geCow",
        "outputId": "b1d38970-0cc4-47da-b1b0-633864c8a1b4"
      },
      "execution_count": 29,
      "outputs": [
        {
          "output_type": "stream",
          "name": "stdout",
          "text": [
            "tensor([0.6923, 0.2652], requires_grad=True)\n"
          ]
        }
      ]
    },
    {
      "cell_type": "code",
      "source": [
        "y = x + 2\n",
        "print(y)\n",
        "#z = y*y\n",
        "z = y.mean()\n",
        "\n",
        "y.retain_grad()\n",
        "z.backward()\n",
        "print(x.grad) # dz/dx\n",
        "print(y.grad)\n",
        "\n",
        "# No grad - 3 known ways\n",
        "#x.requires_grad_(False)\n",
        "#x.detach()\n",
        "with torch.no_grad():\n",
        "  y = x*x\n",
        "  #print(y)"
      ],
      "metadata": {
        "colab": {
          "base_uri": "https://localhost:8080/"
        },
        "id": "G_UOeniHeZUn",
        "outputId": "805b4f5a-1acb-4920-bf67-3c07f252afdb"
      },
      "execution_count": 30,
      "outputs": [
        {
          "output_type": "stream",
          "name": "stdout",
          "text": [
            "tensor([2.6923, 2.2652], grad_fn=<AddBackward0>)\n",
            "tensor([0.5000, 0.5000])\n",
            "tensor([0.5000, 0.5000])\n"
          ]
        }
      ]
    },
    {
      "cell_type": "code",
      "source": [
        "!python --version"
      ],
      "metadata": {
        "colab": {
          "base_uri": "https://localhost:8080/"
        },
        "id": "sfwH9FFubPj4",
        "outputId": "4acb9f0e-4905-4ab4-e9d7-b751e48217aa"
      },
      "execution_count": null,
      "outputs": [
        {
          "output_type": "stream",
          "name": "stdout",
          "text": [
            "Python 3.8.16\n"
          ]
        }
      ]
    },
    {
      "cell_type": "code",
      "execution_count": null,
      "metadata": {
        "ExecuteTime": {
          "end_time": "2021-03-22T05:33:02.498610Z",
          "start_time": "2021-03-22T05:33:01.960934Z"
        },
        "id": "lAC03P-Cfvan",
        "colab": {
          "base_uri": "https://localhost:8080/",
          "height": 238
        },
        "outputId": "d5191acb-f4de-4294-81c8-09aa1be2f1d6"
      },
      "outputs": [
        {
          "output_type": "error",
          "ename": "NameError",
          "evalue": "ignored",
          "traceback": [
            "\u001b[0;31m---------------------------------------------------------------------------\u001b[0m",
            "\u001b[0;31mNameError\u001b[0m                                 Traceback (most recent call last)",
            "\u001b[0;32m<ipython-input-2-06f7d6bc05f6>\u001b[0m in \u001b[0;36m<module>\u001b[0;34m\u001b[0m\n\u001b[1;32m      3\u001b[0m     \u001b[0;32mreturn\u001b[0m \u001b[0mtorch\u001b[0m\u001b[0;34m.\u001b[0m\u001b[0mpow\u001b[0m\u001b[0;34m(\u001b[0m\u001b[0;34m(\u001b[0m\u001b[0mx\u001b[0m\u001b[0;34m-\u001b[0m\u001b[0;36m2.0\u001b[0m\u001b[0;34m)\u001b[0m\u001b[0;34m,\u001b[0m \u001b[0;36m2\u001b[0m\u001b[0;34m)\u001b[0m\u001b[0;34m\u001b[0m\u001b[0;34m\u001b[0m\u001b[0m\n\u001b[1;32m      4\u001b[0m \u001b[0;34m\u001b[0m\u001b[0m\n\u001b[0;32m----> 5\u001b[0;31m \u001b[0mx_axis_vals\u001b[0m \u001b[0;34m=\u001b[0m \u001b[0mnp\u001b[0m\u001b[0;34m.\u001b[0m\u001b[0mlinspace\u001b[0m\u001b[0;34m(\u001b[0m\u001b[0;34m-\u001b[0m\u001b[0;36m7\u001b[0m\u001b[0;34m,\u001b[0m\u001b[0;36m9\u001b[0m\u001b[0;34m,\u001b[0m\u001b[0;36m100\u001b[0m\u001b[0;34m)\u001b[0m\u001b[0;34m\u001b[0m\u001b[0;34m\u001b[0m\u001b[0m\n\u001b[0m\u001b[1;32m      6\u001b[0m \u001b[0my_axis_vals\u001b[0m \u001b[0;34m=\u001b[0m \u001b[0mf\u001b[0m\u001b[0;34m(\u001b[0m\u001b[0mtorch\u001b[0m\u001b[0;34m.\u001b[0m\u001b[0mtensor\u001b[0m\u001b[0;34m(\u001b[0m\u001b[0mx_axis_vals\u001b[0m\u001b[0;34m)\u001b[0m\u001b[0;34m)\u001b[0m\u001b[0;34m.\u001b[0m\u001b[0mnumpy\u001b[0m\u001b[0;34m(\u001b[0m\u001b[0;34m)\u001b[0m\u001b[0;34m\u001b[0m\u001b[0;34m\u001b[0m\u001b[0m\n\u001b[1;32m      7\u001b[0m \u001b[0;34m\u001b[0m\u001b[0m\n",
            "\u001b[0;31mNameError\u001b[0m: name 'np' is not defined"
          ]
        }
      ],
      "source": [
        "#@title\n",
        "def f(x):\n",
        "    return torch.pow((x-2.0), 2)\n",
        "\n",
        "x_axis_vals = np.linspace(-7,9,100)\n",
        "y_axis_vals = f(torch.tensor(x_axis_vals)).numpy()\n",
        "\n",
        "sns.lineplot(x=x_axis_vals, y=y_axis_vals, label='$f(x)=(x-2)^2$')\n",
        "#@title\n",
        "def fP(x): #Defining the derivative of f(x) manually\n",
        "    return 2*x-4\n",
        "\n",
        "y_axis_vals_p = fP(torch.tensor(x_axis_vals)).numpy()\n",
        "\n",
        "#First, lets draw a black line at 0, so that we can easily tell if something is positive or negative\n",
        "sns.lineplot(x=x_axis_vals, y=[0.0]*len(x_axis_vals), label=\"0\", color='black')\n",
        "sns.lineplot(x=x_axis_vals, y=y_axis_vals, label='$f(x) = (x-2)^2$')\n",
        "sns.lineplot(x=x_axis_vals, y=y_axis_vals_p, label=\"$f'(x)=2 x - 4$\")\n",
        "#@title\n",
        "x = torch.tensor([-3.5], requires_grad=True)\n",
        "print(x.grad)\n",
        "#@title\n",
        "value = f(x)\n",
        "print(value)\n",
        "#@title\n",
        "value.backward()\n",
        "print(x.grad)\n",
        "#@title\n",
        "x = torch.tensor([-3.5], requires_grad=True)\n",
        "\n",
        "x_cur = x.clone()\n",
        "x_prev = x_cur*100 #Make the initial \"previous\" solution larger\n",
        "epsilon = 1e-5\n",
        "eta = 0.1\n",
        "\n",
        "while torch.linalg.norm(x_cur-x_prev) > epsilon:\n",
        "    x_prev = x_cur.clone() #We need to make a clone here so that x_prev and x_cur don't point to the same object\n",
        "\n",
        "    #Compute our function, gradient, and update\n",
        "    value = f(x)\n",
        "    value.backward()\n",
        "    x.data -= eta * x.grad\n",
        "    x.grad.zero_() #We need to zero out the old gradient, as py-torch will not do that for us\n",
        "\n",
        "    #What are we currently now?\n",
        "    x_cur = x.data\n",
        "\n",
        "print(x_cur)\n",
        "#@title\n",
        "x_param = torch.nn.Parameter(torch.tensor([-3.5]), requires_grad=True)\n",
        "#@title\n",
        "optimizer = torch.optim.SGD([x_param], lr=eta)\n",
        "#@title\n",
        "for epoch in range(60):\n",
        "    optimizer.zero_grad() #x.grad.zero_()\n",
        "    loss_incurred  = f(x_param)\n",
        "    loss_incurred.backward()\n",
        "    optimizer.step() #x.data -= eta * x.grad\n",
        "print(x_param.data)\n",
        "#@title\n",
        "from torch.utils.data import Dataset\n",
        "from sklearn.datasets import fetch_openml\n",
        "\n",
        "# Load data from https://www.openml.org/d/554\n",
        "X, y = fetch_openml('mnist_784', version=1, return_X_y=True)\n",
        "print(X.shape)\n",
        "#@title\n",
        "class SimpleDataset(Dataset):\n",
        "\n",
        "    def __init__(self, X, y):\n",
        "        super(SimpleDataset, self).__init__()\n",
        "        self.X = X\n",
        "        self.y = y\n",
        "\n",
        "    def __getitem__(self, index):\n",
        "        #This \"work\" could have gone in the constructor, but you should get into\n",
        "        inputs = torch.tensor(self.X[index,:], dtype=torch.float32)\n",
        "        targets = torch.tensor(int(self.y[index]), dtype=torch.int64)\n",
        "        return inputs, targets\n",
        "\n",
        "    def __len__(self):\n",
        "        return self.X.shape[0]\n",
        "#Now we can make a PyTorch dataset\n",
        "dataset = SimpleDataset(X, y)\n",
        "#@title\n",
        "print(\"Length: \", len(dataset))\n",
        "example, label = dataset[0]\n",
        "print(\"Features: \", example.shape) #Will return 784\n",
        "print(\"Label of index 0: \", label)\n",
        "#@title\n",
        "plt.imshow(example.reshape((28,28)))\n",
        "#@title\n",
        "train_size = int(len(dataset)*0.8)\n",
        "test_size = len(dataset)-train_size\n",
        "\n",
        "train_dataset, test_dataset = torch.utils.data.random_split(dataset, (train_size, test_size))\n",
        "print(\"{} examples for training and {} for testing\".format(len(train_dataset), len(test_dataset)))"
      ]
    }
  ],
  "metadata": {
    "author": "Why PyTorch?",
    "celltoolbar": "Tags",
    "kernelspec": {
      "display_name": "Python 3",
      "language": "python",
      "name": "python3"
    },
    "language_info": {
      "codemirror_mode": {
        "name": "ipython",
        "version": 3
      },
      "file_extension": ".py",
      "mimetype": "text/x-python",
      "name": "python",
      "nbconvert_exporter": "python",
      "pygments_lexer": "ipython3",
      "version": "3.7.9"
    },
    "latex_envs": {
      "LaTeX_envs_menu_present": true,
      "autoclose": false,
      "autocomplete": false,
      "bibliofile": "biblio.bib",
      "cite_by": "apalike",
      "current_citInitial": 1,
      "eqLabelWithNumbers": true,
      "eqNumInitial": 1,
      "hotkeys": {
        "equation": "Ctrl-E",
        "itemize": "Ctrl-I"
      },
      "labels_anchors": false,
      "latex_user_defs": false,
      "report_style_numbering": false,
      "user_envs_cfg": false
    },
    "latex_metadata": {
      "title": "The Mechanics of Learning"
    },
    "varInspector": {
      "cols": {
        "lenName": 16,
        "lenType": 16,
        "lenVar": 40
      },
      "kernels_config": {
        "python": {
          "delete_cmd_postfix": "",
          "delete_cmd_prefix": "del ",
          "library": "var_list.py",
          "varRefreshCmd": "print(var_dic_list())"
        },
        "r": {
          "delete_cmd_postfix": ") ",
          "delete_cmd_prefix": "rm(",
          "library": "var_list.r",
          "varRefreshCmd": "cat(var_dic_list()) "
        }
      },
      "types_to_exclude": [
        "module",
        "function",
        "builtin_function_or_method",
        "instance",
        "_Feature"
      ],
      "window_display": false
    },
    "colab": {
      "provenance": []
    },
    "accelerator": "GPU",
    "gpuClass": "standard"
  },
  "nbformat": 4,
  "nbformat_minor": 0
}